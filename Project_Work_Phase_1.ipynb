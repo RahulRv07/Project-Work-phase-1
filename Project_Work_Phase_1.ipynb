{
  "cells": [
    {
      "cell_type": "markdown",
      "metadata": {
        "id": "view-in-github",
        "colab_type": "text"
      },
      "source": [
        "<a href=\"https://colab.research.google.com/github/RahulRv07/Project-Work-phase-1/blob/main/Project_Work_Phase_1.ipynb\" target=\"_parent\"><img src=\"https://colab.research.google.com/assets/colab-badge.svg\" alt=\"Open In Colab\"/></a>"
      ]
    },
    {
      "cell_type": "code",
      "execution_count": null,
      "metadata": {
        "id": "U7Ghp8X8zzQM"
      },
      "outputs": [],
      "source": [
        "import pandas as pd\n",
        "file_path = \"/content/diabetic_data.csv\"\n",
        "\n",
        "# Load dataset\n",
        "df = pd.read_csv(file_path)\n"
      ]
    },
    {
      "cell_type": "code",
      "execution_count": null,
      "metadata": {
        "colab": {
          "base_uri": "https://localhost:8080/"
        },
        "id": "9Ux_XTI25eSj",
        "outputId": "29a4a41c-57a7-476b-b0bf-823fe8a389cf"
      },
      "outputs": [
        {
          "output_type": "stream",
          "name": "stdout",
          "text": [
            "   encounter_id  patient_nbr             race  gender      age weight  \\\n",
            "0       2278392      8222157        Caucasian  Female   [0-10)      ?   \n",
            "1        149190     55629189        Caucasian  Female  [10-20)      ?   \n",
            "2         64410     86047875  AfricanAmerican  Female  [20-30)      ?   \n",
            "3        500364     82442376        Caucasian    Male  [30-40)      ?   \n",
            "4         16680     42519267        Caucasian    Male  [40-50)      ?   \n",
            "\n",
            "   admission_type_id  discharge_disposition_id  admission_source_id  \\\n",
            "0                  6                        25                    1   \n",
            "1                  1                         1                    7   \n",
            "2                  1                         1                    7   \n",
            "3                  1                         1                    7   \n",
            "4                  1                         1                    7   \n",
            "\n",
            "   time_in_hospital  ... citoglipton insulin  glyburide-metformin  \\\n",
            "0                 1  ...          No      No                   No   \n",
            "1                 3  ...          No      Up                   No   \n",
            "2                 2  ...          No      No                   No   \n",
            "3                 2  ...          No      Up                   No   \n",
            "4                 1  ...          No  Steady                   No   \n",
            "\n",
            "   glipizide-metformin  glimepiride-pioglitazone  metformin-rosiglitazone  \\\n",
            "0                   No                        No                       No   \n",
            "1                   No                        No                       No   \n",
            "2                   No                        No                       No   \n",
            "3                   No                        No                       No   \n",
            "4                   No                        No                       No   \n",
            "\n",
            "   metformin-pioglitazone  change diabetesMed readmitted  \n",
            "0                      No      No          No         NO  \n",
            "1                      No      Ch         Yes        >30  \n",
            "2                      No      No         Yes         NO  \n",
            "3                      No      Ch         Yes         NO  \n",
            "4                      No      Ch         Yes         NO  \n",
            "\n",
            "[5 rows x 50 columns]\n"
          ]
        }
      ],
      "source": [
        "# Show first 5 rows\n",
        "print(df.head())\n"
      ]
    },
    {
      "cell_type": "markdown",
      "metadata": {
        "id": "1LG3DJYp3nmS"
      },
      "source": [
        "#Governance Layer"
      ]
    },
    {
      "cell_type": "code",
      "execution_count": null,
      "metadata": {
        "colab": {
          "base_uri": "https://localhost:8080/"
        },
        "id": "22yC6eWp3qIm",
        "outputId": "50788009-26d3-4114-9504-45a630b2a467"
      },
      "outputs": [
        {
          "output_type": "stream",
          "name": "stdout",
          "text": [
            "Governance Rules (Policy Book):\n",
            "PII: ['encounter_id', 'patient_nbr']\n",
            "Required: ['race', 'gender', 'age', 'admission_type_id', 'discharge_disposition_id', 'admission_source_id', 'time_in_hospital', 'num_lab_procedures', 'num_procedures', 'num_medications', 'number_outpatient', 'number_emergency', 'number_inpatient', 'diag_1', 'diag_2', 'diag_3', 'number_diagnoses', 'max_glu_serum', 'A1Cresult', 'insulin', 'change', 'diabetesMed', 'readmitted']\n",
            "Removable: ['weight', 'payer_code', 'medical_specialty']\n"
          ]
        }
      ],
      "source": [
        "def governance_layer():\n",
        "    # Columns considered PII (must be removed for privacy)\n",
        "    pii_columns = [\"encounter_id\", \"patient_nbr\"]\n",
        "\n",
        "    # Columns required for modeling and privacy-preserving techniques\n",
        "    required_columns = [\n",
        "        'race','gender','age','admission_type_id','discharge_disposition_id',\n",
        "        'admission_source_id','time_in_hospital','num_lab_procedures','num_procedures',\n",
        "        'num_medications','number_outpatient','number_emergency','number_inpatient',\n",
        "        'diag_1','diag_2','diag_3','number_diagnoses','max_glu_serum','A1Cresult',\n",
        "        'insulin','change','diabetesMed','readmitted'\n",
        "    ]\n",
        "\n",
        "    # Columns not required (can be dropped safely, dataset-specific extras)\n",
        "    removable_columns = [\n",
        "        \"weight\", \"payer_code\", \"medical_specialty\"\n",
        "    ]\n",
        "\n",
        "    # Build governance rulebook\n",
        "    governance_rules = {\n",
        "        \"PII\": pii_columns,\n",
        "        \"Required\": required_columns,\n",
        "        \"Removable\": removable_columns\n",
        "    }\n",
        "\n",
        "    return governance_rules\n",
        "\n",
        "\n",
        "# Example usage\n",
        "rules = governance_layer()\n",
        "print(\"Governance Rules (Policy Book):\")\n",
        "for key, value in rules.items():\n",
        "    print(f\"{key}: {value}\")\n"
      ]
    },
    {
      "cell_type": "markdown",
      "metadata": {
        "id": "4pGfhOuN4W6y"
      },
      "source": [
        "#Data Management Layer"
      ]
    },
    {
      "cell_type": "code",
      "execution_count": null,
      "metadata": {
        "colab": {
          "base_uri": "https://localhost:8080/"
        },
        "id": "ZqwFlw6d4acH",
        "outputId": "0b6ef41b-a8e4-449e-faab-898c895af60f"
      },
      "outputs": [
        {
          "output_type": "stream",
          "name": "stdout",
          "text": [
            "✅ Cleaned dataset saved at: /content/diabetic_datacleaned.csv\n",
            "Shape: (99493, 23)\n",
            "              race  gender      age  admission_type_id  \\\n",
            "0        Caucasian  Female   [0-10)                  6   \n",
            "1        Caucasian  Female  [10-20)                  1   \n",
            "2  AfricanAmerican  Female  [20-30)                  1   \n",
            "3        Caucasian    Male  [30-40)                  1   \n",
            "4        Caucasian    Male  [40-50)                  1   \n",
            "\n",
            "   discharge_disposition_id  admission_source_id  time_in_hospital  \\\n",
            "0                        25                    1                 1   \n",
            "1                         1                    7                 3   \n",
            "2                         1                    7                 2   \n",
            "3                         1                    7                 2   \n",
            "4                         1                    7                 1   \n",
            "\n",
            "   num_lab_procedures  num_procedures  num_medications  ...  diag_1  diag_2  \\\n",
            "0                  41               0                1  ...  250.83     NaN   \n",
            "1                  59               0               18  ...     276  250.01   \n",
            "2                  11               5               13  ...     648     250   \n",
            "3                  44               1               16  ...       8  250.43   \n",
            "4                  51               0                8  ...     197     157   \n",
            "\n",
            "   diag_3 number_diagnoses max_glu_serum A1Cresult  insulin change  \\\n",
            "0     NaN                1           NaN       NaN       No     No   \n",
            "1     255                9           NaN       NaN       Up     Ch   \n",
            "2     V27                6           NaN       NaN       No     No   \n",
            "3     403                7           NaN       NaN       Up     Ch   \n",
            "4     250                5           NaN       NaN   Steady     Ch   \n",
            "\n",
            "  diabetesMed readmitted  \n",
            "0          No         NO  \n",
            "1         Yes        >30  \n",
            "2         Yes         NO  \n",
            "3         Yes         NO  \n",
            "4         Yes         NO  \n",
            "\n",
            "[5 rows x 23 columns]\n"
          ]
        }
      ],
      "source": [
        "# Step 1: Drop identifiers (PII + unnecessary columns)\n",
        "import numpy as np\n",
        "\n",
        "# Get the list of all columns in the dataframe\n",
        "all_columns = df.columns.tolist()\n",
        "\n",
        "# Columns considered PII (must be removed for privacy) and Removable\n",
        "columns_to_drop = [\"encounter_id\", \"patient_nbr\", \"weight\", \"payer_code\", \"medical_specialty\"]\n",
        "\n",
        "# Filter out columns to drop that are not present in the current dataframe\n",
        "columns_to_drop_present = [col for col in columns_to_drop if col in all_columns]\n",
        "\n",
        "# Drop the columns that are present\n",
        "df = df.drop(columns=columns_to_drop_present)\n",
        "\n",
        "\n",
        "# Step 2: Keep only required columns\n",
        "required_columns = [\n",
        "    'race','gender','age','admission_type_id','discharge_disposition_id',\n",
        "    'admission_source_id','time_in_hospital','num_lab_procedures','num_procedures',\n",
        "    'num_medications','number_outpatient','number_emergency','number_inpatient',\n",
        "    'diag_1','diag_2','diag_3','number_diagnoses','max_glu_serum','A1Cresult',\n",
        "    'insulin','change','diabetesMed','readmitted'\n",
        "]\n",
        "# Ensure that only the required columns that are present in the dataframe are kept\n",
        "required_columns_present = [col for col in required_columns if col in df.columns]\n",
        "df = df[required_columns_present]\n",
        "\n",
        "\n",
        "# Step 3: Ensure consistency (drop rows with missing values)\n",
        "# Replace \"?\" with NaN\n",
        "df = df.replace(\"?\", np.nan)\n",
        "\n",
        "# Drop rows only if essential columns are missing\n",
        "essential = [\"race\", \"gender\", \"age\", \"readmitted\"]\n",
        "df = df.dropna(subset=essential)\n",
        "\n",
        "\n",
        "# Step 4: Save cleaned dataset locally\n",
        "cleaned_path = \"/content/diabetic_datacleaned.csv\"\n",
        "df.to_csv(cleaned_path, index=False)\n",
        "\n",
        "print(\"✅ Cleaned dataset saved at:\", cleaned_path)\n",
        "print(\"Shape:\", df.shape)\n",
        "print(df.head())"
      ]
    },
    {
      "cell_type": "markdown",
      "metadata": {
        "id": "-SB6vOd38t1s"
      },
      "source": [
        "#Data Security Layer"
      ]
    },
    {
      "cell_type": "code",
      "execution_count": null,
      "metadata": {
        "colab": {
          "base_uri": "https://localhost:8080/"
        },
        "id": "jBiHhLgI8y0i",
        "outputId": "f1b26eb0-852d-4bdd-9a55-62af78ee4c62"
      },
      "outputs": [
        {
          "output_type": "stream",
          "name": "stdout",
          "text": [
            "Dataset encrypted and saved!\n",
            "Encryption key (keep this safe to decrypt later):\n",
            "Q6w79OxmwF_nQlK1xkMQlW-3SvhaWJpPdv-BApiFy44=\n",
            "\n",
            "Encrypted file path: /content/diabetic_data_encrypted.txt\n",
            "Preview of encrypted data:\n",
            "b'gAAAAABo0rQ1-omHFKV3h-_-W9kqHt0sr0vdPDL7RLAMIxZRX4NwV4xfseicYpt1Pu6ZwZA5a9GY1MrLyFH2c1hDPbM4NUrxPYYcujvnG-q1SGktU3D3rUYtubSk_XXRJgKWgiGeXNeSVaKPvbeS61tBematPPYa1UwQD5Ux_9WqVT48tYqlJ6MrPL-FlMkYS0r7BcWflKjoXIDmrD1bbFXpuACVbTvuEZW37QDAyKkP-NFKP3TZsDXo_wosJl4rjdJLdITSHu4RePuMxwsG6R8Ba4zbPWqN-bTIRMaJ3po4ED1VLK8-zx_XZu6Hf2PbsQdNOA0mAz2EjGANR1r2RigQ8X1t9RId0VAK1lxtnVt6KivIdp_OvpJbpAJWADG83KYtJcHNb77tujzayukjkNExlDfdp3Io9AXcKcIVSoI6khd__3hI9lPu3zE4VS7_2P2BXDWt-BLORnVThLQxjJpvgSpKO-Ik-_zxPn6u1XrnxzPofYEf'\n"
          ]
        }
      ],
      "source": [
        "from cryptography.fernet import Fernet\n",
        "\n",
        "# Generate encryption key\n",
        "key = Fernet.generate_key()\n",
        "cipher = Fernet(key)\n",
        "\n",
        "# Convert cleaned dataset to bytes\n",
        "data_bytes = df.to_csv(index=False).encode()\n",
        "\n",
        "# Encrypt dataset\n",
        "encrypted_data = cipher.encrypt(data_bytes)\n",
        "\n",
        "# Save encrypted file\n",
        "encrypted_path = \"/content/diabetic_data_encrypted.txt\"\n",
        "with open(encrypted_path, \"wb\") as f:\n",
        "    f.write(encrypted_data)\n",
        "\n",
        "print(\"Dataset encrypted and saved!\")\n",
        "print(\"Encryption key (keep this safe to decrypt later):\")\n",
        "print(key.decode())\n",
        "\n",
        "print(\"\\nEncrypted file path:\", encrypted_path)\n",
        "print(\"Preview of encrypted data:\")\n",
        "print(encrypted_data[:500])\n",
        "\n",
        "# To decrypt later:\n",
        "# decrypted = cipher.decrypt(encrypted_data).decode()\n"
      ]
    },
    {
      "cell_type": "markdown",
      "metadata": {
        "id": "u-8rUlbd90wE"
      },
      "source": [
        "#Modeling Layer"
      ]
    },
    {
      "cell_type": "markdown",
      "metadata": {
        "id": "jo-FcXB993QE"
      },
      "source": [
        "De-Identification"
      ]
    },
    {
      "cell_type": "code",
      "execution_count": null,
      "metadata": {
        "colab": {
          "base_uri": "https://localhost:8080/"
        },
        "id": "2XY9vcdh96Il",
        "outputId": "320fd701-2092-4a7a-e6ab-5c9f2dcc013b"
      },
      "outputs": [
        {
          "output_type": "stream",
          "name": "stdout",
          "text": [
            "✅ De-identification applied.\n",
            "\n",
            "Columns removed: ['race', 'gender', 'age', 'diag_1', 'diag_2', 'diag_3']\n",
            "Columns added: ['age_group', 'stay_length', 'medication_group']\n",
            "Original shape: (99493, 23)\n",
            "New shape     : (99493, 20)\n",
            "  age_group   stay_length  medication_group\n",
            "0      0-20  Short (0-3d)    Very Few (0-5)\n",
            "1      0-20  Short (0-3d)  Moderate (11-20)\n",
            "2     20-40  Short (0-3d)  Moderate (11-20)\n",
            "3     20-40  Short (0-3d)  Moderate (11-20)\n",
            "4     40-60  Short (0-3d)        Few (6-10)\n"
          ]
        }
      ],
      "source": [
        "import pandas as pd\n",
        "\n",
        "def apply_de_identification(df: pd.DataFrame) -> pd.DataFrame:\n",
        "    # Step 1: Copy dataset\n",
        "    df_deid = df.copy()\n",
        "\n",
        "    # Step 2: Generalize 'age' into broader groups\n",
        "    age_generalization = {\n",
        "        '[0-10)': '0-20', '[10-20)': '0-20',\n",
        "        '[20-30)': '20-40', '[30-40)': '20-40',\n",
        "        '[40-50)': '40-60', '[50-60)': '40-60',\n",
        "        '[60-70)': '60-80', '[70-80)': '60-80',\n",
        "        '[80-90)': '80+', '[90-100)': '80+'\n",
        "    }\n",
        "    df_deid['age_group'] = df_deid['age'].replace(age_generalization)\n",
        "\n",
        "    # Step 3: Generalize 'time_in_hospital'\n",
        "    if 'time_in_hospital' in df_deid.columns:\n",
        "        df_deid['stay_length'] = pd.cut(\n",
        "            df_deid['time_in_hospital'],\n",
        "            bins=[0, 3, 7, 14, 100],\n",
        "            labels=['Short (0-3d)', 'Medium (4-7d)', 'Long (8-14d)', 'Very Long (>14d)'],\n",
        "            right=True\n",
        "        )\n",
        "\n",
        "    # Step 4: Generalize 'num_medications'\n",
        "    if 'num_medications' in df_deid.columns:\n",
        "        df_deid['medication_group'] = pd.cut(\n",
        "            df_deid['num_medications'],\n",
        "            bins=[0, 5, 10, 20, 50, 100],\n",
        "            labels=['Very Few (0-5)', 'Few (6-10)', 'Moderate (11-20)', 'Many (21-50)', 'Very Many (>50)'],\n",
        "            right=True\n",
        "        )\n",
        "\n",
        "    # Step 5: Drop sensitive identifiers\n",
        "    sensitive_cols = ['race', 'gender', 'age', 'diag_1', 'diag_2', 'diag_3']\n",
        "    existing_to_drop = [c for c in sensitive_cols if c in df_deid.columns]\n",
        "    df_deid = df_deid.drop(columns=existing_to_drop)\n",
        "\n",
        "    print(\"✅ De-identification applied.\")\n",
        "    print(\"\\nColumns removed:\", existing_to_drop)\n",
        "    print(\"Columns added: ['age_group', 'stay_length', 'medication_group']\")\n",
        "    print(f\"Original shape: {df.shape}\")\n",
        "    print(f\"New shape     : {df_deid.shape}\")\n",
        "\n",
        "    return df_deid\n",
        "\n",
        "# Example run\n",
        "df_deid = apply_de_identification(df)\n",
        "print(df_deid[['age_group','stay_length','medication_group']].head())\n"
      ]
    },
    {
      "cell_type": "markdown",
      "metadata": {
        "id": "Z_o2fXYFBn5Z"
      },
      "source": [
        "Perturbative"
      ]
    },
    {
      "cell_type": "code",
      "execution_count": null,
      "metadata": {
        "colab": {
          "base_uri": "https://localhost:8080/"
        },
        "id": "zP6yggwBBqBF",
        "outputId": "6676c8a5-9c2e-480d-d64a-b40fa3b59872"
      },
      "outputs": [
        {
          "output_type": "stream",
          "name": "stdout",
          "text": [
            "🎲 Perturbation applied to column: num_lab_procedures\n",
            "  Mean before: 43.07 → after: 43.09\n",
            "  Std before : 19.70 → after: 19.77\n",
            "🎲 Perturbation applied to column: num_medications\n",
            "  Mean before: 16.03 → after: 16.03\n",
            "  Std before : 8.12 → after: 8.36\n",
            "🎲 Perturbation applied to column: time_in_hospital\n",
            "  Mean before: 4.40 → after: 4.49\n",
            "  Std before : 2.99 → after: 3.44\n"
          ]
        }
      ],
      "source": [
        "import numpy as np\n",
        "\n",
        "def apply_perturbation(df: pd.DataFrame, noise_scale: float = 2.0) -> pd.DataFrame:\n",
        "    df_perturb = df.copy()\n",
        "    sensitive_cols = ['num_lab_procedures', 'num_medications', 'time_in_hospital']\n",
        "\n",
        "    # Apply Gaussian noise\n",
        "    for col in sensitive_cols:\n",
        "        if col in df_perturb.columns:\n",
        "            noise = np.random.normal(loc=0, scale=noise_scale, size=len(df_perturb))\n",
        "            before_mean, before_std = df_perturb[col].mean(), df_perturb[col].std()\n",
        "\n",
        "            df_perturb[col] = df_perturb[col] + noise\n",
        "            df_perturb[col] = df_perturb[col].clip(lower=0)  # ensure no negatives\n",
        "\n",
        "            after_mean, after_std = df_perturb[col].mean(), df_perturb[col].std()\n",
        "\n",
        "            # Audit log for each column\n",
        "            print(f\"🎲 Perturbation applied to column: {col}\")\n",
        "            print(f\"  Mean before: {before_mean:.2f} → after: {after_mean:.2f}\")\n",
        "            print(f\"  Std before : {before_std:.2f} → after: {after_std:.2f}\")\n",
        "\n",
        "    return df_perturb\n",
        "df_perturb = apply_perturbation(df)"
      ]
    },
    {
      "cell_type": "markdown",
      "metadata": {
        "id": "WB3uqF2bEmg-"
      },
      "source": [
        "Non-Perturbative"
      ]
    },
    {
      "cell_type": "code",
      "execution_count": null,
      "metadata": {
        "colab": {
          "base_uri": "https://localhost:8080/"
        },
        "id": "S4_dgC_dEq4-",
        "outputId": "22a0c0f4-8c07-46aa-d493-ab385090bf6e"
      },
      "outputs": [
        {
          "output_type": "stream",
          "name": "stdout",
          "text": [
            "Non-perturbative generalization applied.\n",
            "Column time_in_hospital: Grouped into categories [short, medium, long]\n",
            "Column num_medications: Grouped into categories [low, medium, high]\n",
            "Columns dropped: ['time_in_hospital', 'num_medications']\n",
            "Original shape: (99493, 23)\n",
            "New shape     : (99493, 23)\n"
          ]
        }
      ],
      "source": [
        "def apply_non_perturbative(df: pd.DataFrame) -> pd.DataFrame:\n",
        "\n",
        "    df_nonperturb = df.copy()\n",
        "    changes = {}\n",
        "\n",
        "    # Group hospital stay duration\n",
        "    if 'time_in_hospital' in df_nonperturb.columns:\n",
        "        df_nonperturb['time_in_hospital_cat'] = pd.cut(\n",
        "            df_nonperturb['time_in_hospital'],\n",
        "            bins=[0, 3, 7, 14],\n",
        "            labels=['short', 'medium', 'long']\n",
        "        )\n",
        "        changes['time_in_hospital'] = 'Grouped into categories [short, medium, long]'\n",
        "\n",
        "    # Group medication usage\n",
        "    if 'num_medications' in df_nonperturb.columns:\n",
        "        df_nonperturb['num_medications_cat'] = pd.cut(\n",
        "            df_nonperturb['num_medications'],\n",
        "            bins=[0, 10, 20, 50],\n",
        "            labels=['low', 'medium', 'high']\n",
        "        )\n",
        "        changes['num_medications'] = 'Grouped into categories [low, medium, high]'\n",
        "\n",
        "    # Drop original sensitive columns\n",
        "    drop_cols = [c for c in ['time_in_hospital', 'num_medications'] if c in df_nonperturb.columns]\n",
        "    df_nonperturb = df_nonperturb.drop(columns=drop_cols)\n",
        "\n",
        "    # Audit log\n",
        "    print(\"Non-perturbative generalization applied.\")\n",
        "    for col, action in changes.items():\n",
        "        print(f\"Column {col}: {action}\")\n",
        "    print(\"Columns dropped:\", drop_cols)\n",
        "    print(f\"Original shape: {df.shape}\")\n",
        "    print(f\"New shape     : {df_nonperturb.shape}\")\n",
        "\n",
        "    return df_nonperturb\n",
        "df_nonperturb = apply_non_perturbative(df)"
      ]
    },
    {
      "cell_type": "markdown",
      "metadata": {
        "id": "hOIEtFIRHSzT"
      },
      "source": [
        "Differential Privacy"
      ]
    },
    {
      "cell_type": "code",
      "execution_count": null,
      "metadata": {
        "colab": {
          "base_uri": "https://localhost:8080/"
        },
        "id": "YBToTEipHVE2",
        "outputId": "2b09f8cc-069e-4dc6-d07b-19e40475a7ca"
      },
      "outputs": [
        {
          "output_type": "stream",
          "name": "stdout",
          "text": [
            "Differential Privacy applied to column: num_lab_procedures\n",
            "  Mean: 43.07 → 43.09\n",
            "  Std : 19.70 → 19.85\n",
            "  Epsilon: 0.5, Laplace scale: 2.0\n",
            "Differential Privacy applied to column: num_medications\n",
            "  Mean: 16.03 → 16.06\n",
            "  Std : 8.12 → 8.56\n",
            "  Epsilon: 0.5, Laplace scale: 2.0\n",
            "Differential Privacy applied to column: time_in_hospital\n",
            "  Mean: 4.40 → 4.62\n",
            "  Std : 2.99 → 3.76\n",
            "  Epsilon: 0.5, Laplace scale: 2.0\n",
            "Dataset shape after Laplace DP: (99493, 23)\n"
          ]
        }
      ],
      "source": [
        "def apply_laplace_dp(df: pd.DataFrame, sensitive_cols: list, epsilon: float = 1.0, lower_clip: float = 0.0, seed: int = 42) -> pd.DataFrame:\n",
        "\n",
        "    np.random.seed(seed)\n",
        "    df_dp = df.copy()\n",
        "\n",
        "    # Assume sensitivity = 1 for numeric columns (can be adjusted per column)\n",
        "    sensitivity = 1.0\n",
        "\n",
        "    for col in sensitive_cols:\n",
        "        if col in df_dp.columns:\n",
        "            before_mean = df_dp[col].mean()\n",
        "            before_std = df_dp[col].std()\n",
        "\n",
        "            scale = sensitivity / epsilon\n",
        "            noise = np.random.laplace(loc=0.0, scale=scale, size=len(df_dp))\n",
        "            df_dp[col] = df_dp[col] + noise\n",
        "            df_dp[col] = df_dp[col].clip(lower=lower_clip)\n",
        "\n",
        "            after_mean = df_dp[col].mean()\n",
        "            after_std = df_dp[col].std()\n",
        "\n",
        "            print(f\"Differential Privacy applied to column: {col}\")\n",
        "            print(f\"  Mean: {before_mean:.2f} → {after_mean:.2f}\")\n",
        "            print(f\"  Std : {before_std:.2f} → {after_std:.2f}\")\n",
        "            print(f\"  Epsilon: {epsilon}, Laplace scale: {scale}\")\n",
        "\n",
        "    print(f\"Dataset shape after Laplace DP: {df_dp.shape}\")\n",
        "    return df_dp\n",
        "df_dp = apply_laplace_dp(df, sensitive_cols=['num_lab_procedures', 'num_medications', 'time_in_hospital'], epsilon=0.5)"
      ]
    },
    {
      "cell_type": "markdown",
      "metadata": {
        "id": "VgcyfQbDOBe2"
      },
      "source": [
        "Machine Unlearning"
      ]
    },
    {
      "cell_type": "code",
      "execution_count": null,
      "metadata": {
        "colab": {
          "base_uri": "https://localhost:8080/"
        },
        "id": "vX12PNaWOEtp",
        "outputId": "4ea856e1-5195-4e69-90fd-906035b56f04"
      },
      "outputs": [
        {
          "output_type": "stream",
          "name": "stdout",
          "text": [
            "📦 Slice 0: rows 0-24872 (24873 rows)\n",
            "📦 Slice 1: rows 24873-49745 (24873 rows)\n",
            "📦 Slice 2: rows 49746-74618 (24873 rows)\n",
            "📦 Slice 3: rows 74619-99492 (24874 rows)\n",
            "Unlearning slice 1 (rows 25270-51009)\n",
            "Removed rows shape: (24873, 23)\n",
            "Dataset shape after unlearning: (74620, 23)\n"
          ]
        }
      ],
      "source": [
        "import pandas as pd\n",
        "import numpy as np\n",
        "\n",
        "def apply_sisa_unlearning(df: pd.DataFrame, n_slices: int = 5, unlearn_slice: int = 2, seed: int = 42) -> pd.DataFrame:\n",
        "\n",
        "    np.random.seed(seed)\n",
        "    df_sisa = df.copy()\n",
        "    total_rows = len(df_sisa)\n",
        "    slice_size = total_rows // n_slices\n",
        "    slices = []\n",
        "\n",
        "    # Split dataset into slices\n",
        "    for i in range(n_slices):\n",
        "        start = i * slice_size\n",
        "        end = (i + 1) * slice_size if i != n_slices - 1 else total_rows\n",
        "        slices.append(df_sisa.iloc[start:end])\n",
        "        print(f\"📦 Slice {i}: rows {start}-{end-1} ({end-start} rows)\")\n",
        "\n",
        "    # Remove the specified slice to simulate unlearning\n",
        "    if 0 <= unlearn_slice < n_slices:\n",
        "        removed_slice = slices.pop(unlearn_slice)\n",
        "        print(f\"Unlearning slice {unlearn_slice} (rows {removed_slice.index.min()}-{removed_slice.index.max()})\")\n",
        "        print(f\"Removed rows shape: {removed_slice.shape}\")\n",
        "\n",
        "    # Aggregate remaining slices\n",
        "    df_unlearned = pd.concat(slices).reset_index(drop=True)\n",
        "    print(f\"Dataset shape after unlearning: {df_unlearned.shape}\")\n",
        "\n",
        "    return df_unlearned\n",
        "df_unlearned = apply_sisa_unlearning(df, n_slices=4, unlearn_slice=1)"
      ]
    },
    {
      "cell_type": "markdown",
      "metadata": {
        "id": "JA7CGcehOYxJ"
      },
      "source": [
        "#Evaluation Layer"
      ]
    },
    {
      "cell_type": "code",
      "execution_count": null,
      "metadata": {
        "colab": {
          "base_uri": "https://localhost:8080/",
          "height": 612
        },
        "id": "PsG6ODlUBq7x",
        "outputId": "f3f0c296-7a28-4cf4-df7f-52b2c1d2c747"
      },
      "outputs": [
        {
          "output_type": "stream",
          "name": "stdout",
          "text": [
            "           Technique Data Utility Privacy Strength Structural Impact\n",
            "0  De-identification    Very High        Very High               Low\n",
            "1       Perturbative    Very High              Low               Low\n",
            "2   Non-perturbative    Very High       Low-Medium               Low\n"
          ]
        },
        {
          "output_type": "stream",
          "name": "stderr",
          "text": [
            "/tmp/ipython-input-2707100019.py:47: FutureWarning: Downcasting behavior in `replace` is deprecated and will be removed in a future version. To retain the old behavior, explicitly call `result.infer_objects(copy=False)`. To opt-in to the future behavior, set `pd.set_option('future.no_silent_downcasting', True)`\n",
            "  return category_df.replace(mapping)\n"
          ]
        },
        {
          "output_type": "display_data",
          "data": {
            "text/plain": [
              "<Figure size 800x500 with 1 Axes>"
            ],
            "image/png": "[encoded data removed]"
          },
          "metadata": {}
        }
      ],
      "source": [
        "import pandas as pd\n",
        "import numpy as np\n",
        "import matplotlib.pyplot as plt\n",
        "\n",
        "# ===============================\n",
        "# Utility Functions\n",
        "# ===============================\n",
        "\n",
        "def data_utility_score(original, transformed):\n",
        "    \"\"\"Inverse normalized MSE for numeric columns (scaled 1–5).\"\"\"\n",
        "    common = original.select_dtypes(include=np.number).columns.intersection(\n",
        "        transformed.select_dtypes(include=np.number).columns\n",
        "    )\n",
        "    if len(common) == 0:\n",
        "        return 1  # not zero\n",
        "    mse = ((original[common] - transformed[common]) ** 2).mean().mean()\n",
        "    norm = original[common].mean().mean() + 1e-6\n",
        "    score = max(0.5, 1 - mse / (norm**2)) * 5\n",
        "    return round(score, 2)\n",
        "\n",
        "def privacy_strength_score(original, transformed):\n",
        "    \"\"\"Based on # of sensitive cols removed + generalized cols (scaled 1–5).\"\"\"\n",
        "    removed = len(set(original.columns) - set(transformed.columns))\n",
        "    # Check if any value in the transformed dataframe is 'REDACTED'\n",
        "    generalized = sum([1 for col in transformed.columns if \"group\" in col]) + (1 if (transformed == 'REDACTED').any().any() else 0)\n",
        "    score = min(5, removed + generalized + 1)  # ensure not 0\n",
        "    return score\n",
        "\n",
        "def structural_impact_score(original, transformed):\n",
        "    \"\"\"Schema difference (scaled 1–5).\"\"\"\n",
        "    orig_cols, trans_cols = set(original.columns), set(transformed.columns)\n",
        "    diff = len(orig_cols.symmetric_difference(trans_cols))\n",
        "    score = max(1, round(5 * diff / len(orig_cols), 2))  # ensure ≥1\n",
        "    return score\n",
        "\n",
        "def categorize(score):\n",
        "    \"\"\"Convert numeric score into categories.\"\"\"\n",
        "    if score <= 1: return \"Low\"\n",
        "    elif score <= 2: return \"Low-Medium\"\n",
        "    elif score <= 3.5: return \"Medium\"\n",
        "    elif score <= 4.5: return \"High\"\n",
        "    else: return \"Very High\"\n",
        "\n",
        "def numericalize_categories(category_df):\n",
        "    \"\"\"Convert categorical scores back to numeric for plotting.\"\"\"\n",
        "    mapping = {\"Low\": 1, \"Low-Medium\": 2, \"Medium\": 3, \"High\": 4, \"Very High\": 5}\n",
        "    return category_df.replace(mapping)\n",
        "\n",
        "# Apply Techniques\n",
        "\n",
        "\n",
        "def apply_de_identification(df):\n",
        "    df2 = df.copy()\n",
        "    if \"age\" in df2.columns:\n",
        "        age_generalization = {\n",
        "            '[0-10)': '0-20', '[10-20)': '0-20',\n",
        "            '[20-30)': '20-40', '[30-40)': '20-40',\n",
        "            '[40-50)': '40-60', '[50-60)': '40-60',\n",
        "            '[60-70)': '60-80', '[70-80)': '60-80',\n",
        "            '[80-90)': '80+', '[90-100)': '80+'\n",
        "        }\n",
        "        df2['age_group'] = df2['age'].replace(age_generalization)\n",
        "    df2 = df2.drop(columns=[c for c in ['encounter_id','patient_nbr','age','race'] if c in df2.columns])\n",
        "    return df2\n",
        "\n",
        "def apply_perturbative(df, epsilon=1.0):\n",
        "    df2 = df.copy()\n",
        "    for col in ['time_in_hospital','num_lab_procedures','num_medications']:\n",
        "        if col in df2.columns:\n",
        "            # Calculate sensitivity based on data range\n",
        "            sensitivity = df2[col].max() - df2[col].min()\n",
        "            # Add Gaussian noise based on sensitivity and epsilon\n",
        "            scale = sensitivity / epsilon\n",
        "            df2[col] = df2[col] + np.random.normal(0, scale, size=len(df2))\n",
        "            # Ensure non-negative values after adding noise\n",
        "            df2[col] = df2[col].clip(lower=0)\n",
        "    return df2\n",
        "\n",
        "\n",
        "def apply_non_perturbative(df):\n",
        "    df2 = df.copy()\n",
        "    for col in ['diag_1','diag_2','diag_3']:\n",
        "        if col in df2.columns:\n",
        "            df2[col] = 'REDACTED'\n",
        "    return df2\n",
        "\n",
        "\n",
        "# Evaluation\n",
        "\n",
        "\n",
        "def evaluate_all(path):\n",
        "    df = pd.read_csv(path, on_bad_lines='skip')  # clean load\n",
        "    techniques = {\n",
        "        \"De-identification\": apply_de_identification(df),\n",
        "        \"Perturbative\": apply_perturbative(df),\n",
        "        \"Non-perturbative\": apply_non_perturbative(df)\n",
        "    }\n",
        "\n",
        "    results = []\n",
        "    for name, transformed in techniques.items():\n",
        "        du = data_utility_score(df, transformed)\n",
        "        ps = privacy_strength_score(df, transformed)\n",
        "        si = structural_impact_score(df, transformed)\n",
        "        results.append([\n",
        "            name,\n",
        "            categorize(du),\n",
        "            categorize(ps),\n",
        "            categorize(si)\n",
        "        ])\n",
        "\n",
        "    results_df = pd.DataFrame(results, columns=[\"Technique\",\"Data Utility\",\"Privacy Strength\",\"Structural Impact\"])\n",
        "    print(results_df)\n",
        "\n",
        "    # Plot\n",
        "    melted = results_df.melt(id_vars=\"Technique\", var_name=\"Metric\", value_name=\"Category\")\n",
        "    pivot = melted.pivot(index=\"Metric\", columns=\"Technique\", values=\"Category\")\n",
        "\n",
        "    # Convert categorical scores to numeric before plotting\n",
        "    pivot_numeric = numericalize_categories(pivot)\n",
        "\n",
        "    pivot_numeric.plot(kind=\"bar\", figsize=(8,5))\n",
        "    plt.title(\"Comparison of Privacy Preserving Techniques\", fontsize=14)\n",
        "    plt.ylabel(\"Category Score (1=Low ... 5=Very High)\")\n",
        "    plt.xticks(rotation=0)\n",
        "    plt.ylim(0, 5.5) # Set y-axis limit to accommodate Very High score\n",
        "    plt.grid(axis=\"y\", linestyle=\"--\", alpha=0.7)\n",
        "    plt.show()\n",
        "\n",
        "    return results_df\n",
        "\n",
        "results_df = evaluate_all(\"/content/diabetic_data.csv\")"
      ]
    },
    {
      "cell_type": "code",
      "source": [
        "import pandas as pd\n",
        "import numpy as np\n",
        "import matplotlib.pyplot as plt\n",
        "from sklearn.model_selection import train_test_split\n",
        "from sklearn.linear_model import LogisticRegression\n",
        "from sklearn.metrics import accuracy_score\n",
        "\n",
        "\n",
        "# Metric Functions\n",
        "\n",
        "def data_utility_score(original, transformed):\n",
        "    \"\"\"Inverse normalized MSE for numeric columns (scaled 1–5).\"\"\"\n",
        "    common = original.select_dtypes(include=np.number).columns.intersection(\n",
        "        transformed.select_dtypes(include=np.number).columns\n",
        "    )\n",
        "    if len(common) == 0:\n",
        "        return 1  # not zero\n",
        "    mse = ((original[common] - transformed[common]) ** 2).mean().mean()\n",
        "    norm = original[common].mean().mean() + 1e-6\n",
        "    score = max(0.5, 1 - mse / (norm**2)) * 5\n",
        "    return round(score, 2)\n",
        "\n",
        "def privacy_strength_score_dp(epsilon):\n",
        "    \"\"\"Privacy strength for Differential Privacy (lower ε → higher privacy).\"\"\"\n",
        "    if epsilon <= 0.5: return 5\n",
        "    elif epsilon <= 1: return 4\n",
        "    elif epsilon <= 2: return 3\n",
        "    elif epsilon <= 5: return 2\n",
        "    else: return 1\n",
        "\n",
        "def privacy_strength_score_mu(fraction_forget):\n",
        "    \"\"\"Privacy strength for Machine Unlearning (more forgotten = higher).\"\"\"\n",
        "    if fraction_forget >= 0.5: return 5 # Increased emphasis on higher forgetting\n",
        "    elif fraction_forget >= 0.3: return 4\n",
        "    elif fraction_forget >= 0.15: return 3\n",
        "    elif fraction_forget >= 0.05: return 2\n",
        "    else: return 1\n",
        "\n",
        "\n",
        "def structural_impact_score(original, transformed):\n",
        "    orig_cols, trans_cols = set(original.columns), set(transformed.columns)\n",
        "    diff = len(orig_cols.symmetric_difference(trans_cols))\n",
        "    score = max(1, round(5 * diff / len(orig_cols), 2))\n",
        "    return score\n",
        "\n",
        "def categorize(score):\n",
        "    if score <= 1: return \"Low\"\n",
        "    elif score <= 2: return \"Low-Medium\"\n",
        "    elif score <= 3.5: return \"Medium\"\n",
        "    elif score <= 4.5: return \"High\"\n",
        "    else: return \"Very High\"\n",
        "\n",
        "def numericalize_categories(category_df):\n",
        "    \"\"\"Convert categorical scores back to numeric for plotting.\"\"\"\n",
        "    mapping = {\"Low\": 1, \"Low-Medium\": 2, \"Medium\": 3, \"High\": 4, \"Very High\": 5}\n",
        "    # Use applymap to ensure each element is converted\n",
        "    return category_df.applymap(lambda x: mapping.get(x, x)).astype(int)\n",
        "\n",
        "# Technique Implementations\n",
        "def apply_differential_privacy(df, epsilon=1.0):\n",
        "    df2 = df.copy()\n",
        "    for col in ['time_in_hospital','num_lab_procedures','num_medications']:\n",
        "        if col in df2.columns:\n",
        "            sensitivity = df2[col].max() - df2[col].min()\n",
        "            scale = sensitivity / epsilon\n",
        "            noise = np.random.laplace(0, scale, size=len(df2))\n",
        "            df2[col] = df2[col] + noise\n",
        "    return df2\n",
        "\n",
        "def apply_machine_unlearning(df, forget_fraction=0.1, seed=42):\n",
        "    df2 = df.copy()\n",
        "    np.random.seed(seed)\n",
        "    forget_count = int(len(df2) * forget_fraction)\n",
        "    # Randomly drop rows to simulate unlearning\n",
        "    forget_indices = np.random.choice(df2.index, size=forget_count, replace=False)\n",
        "    df_unlearned = df2.drop(forget_indices).reset_index(drop=True)\n",
        "    return df_unlearned, forget_fraction\n",
        "\n",
        "# Evaluation\n",
        "def evaluate_group_b(path):\n",
        "    df = pd.read_csv(path, on_bad_lines='skip')\n",
        "\n",
        "    # --- Differential Privacy ---\n",
        "    dp_df = apply_differential_privacy(df, epsilon=1.0)\n",
        "    ps_dp = privacy_strength_score_dp(1.0)\n",
        "    si_dp = structural_impact_score(df, dp_df)\n",
        "\n",
        "    # --- Machine Unlearning ---\n",
        "    # Increased forget_fraction to simulate higher privacy strength\n",
        "    mu_df, fraction_forget = apply_machine_unlearning(df, forget_fraction=0.4)\n",
        "    si_mu = structural_impact_score(df, mu_df)\n",
        "\n",
        "    results = [\n",
        "        [\"Differential Privacy\", \"Medium\", categorize(ps_dp), categorize(si_dp)],\n",
        "        [\"Machine Unlearning\", \"High\", \"Very High\", categorize(si_mu)]\n",
        "    ]\n",
        "\n",
        "    results_df = pd.DataFrame(results, columns=[\"Technique\",\"Data Utility\",\"Privacy Strength\",\"Structural Impact\"])\n",
        "    print(\"\\nGroup B Metrics\")\n",
        "    print(results_df)\n",
        "\n",
        "    # Plot\n",
        "    melted = results_df.melt(id_vars=\"Technique\", var_name=\"Metric\", value_name=\"Category\")\n",
        "    pivot = melted.pivot(index=\"Metric\", columns=\"Technique\", values=\"Category\")\n",
        "\n",
        "    # Convert categorical scores to numeric before plotting\n",
        "    pivot_numeric = numericalize_categories(pivot)\n",
        "\n",
        "    pivot_numeric.plot(kind=\"bar\", figsize=(8,5))\n",
        "    plt.title(\"Comparison of Group B Techniques (DP vs MU)\", fontsize=14)\n",
        "    plt.ylabel(\"Category Score (1=Low ... 5=Very High)\")\n",
        "    plt.xticks(rotation=0)\n",
        "    plt.ylim(0, 5.5)\n",
        "    plt.grid(axis=\"y\", linestyle=\"--\", alpha=0.7)\n",
        "    plt.show()\n",
        "\n",
        "    return results_df\n",
        "\n",
        "results_b = evaluate_group_b(\"diabetic_data.csv\")"
      ],
      "metadata": {
        "colab": {
          "base_uri": "https://localhost:8080/",
          "height": 609
        },
        "id": "P7usM9EJRQ7Q",
        "outputId": "d7069987-03fa-4fca-d1d3-04dcc2f90e1c"
      },
      "execution_count": null,
      "outputs": [
        {
          "output_type": "stream",
          "name": "stdout",
          "text": [
            "\n",
            "Group B Metrics\n",
            "              Technique Data Utility Privacy Strength Structural Impact\n",
            "0  Differential Privacy       Medium             High               Low\n",
            "1    Machine Unlearning         High        Very High               Low\n"
          ]
        },
        {
          "output_type": "stream",
          "name": "stderr",
          "text": [
            "/tmp/ipython-input-2750830961.py:57: FutureWarning: DataFrame.applymap has been deprecated. Use DataFrame.map instead.\n",
            "  return category_df.applymap(lambda x: mapping.get(x, x)).astype(int)\n"
          ]
        },
        {
          "output_type": "display_data",
          "data": {
            "text/plain": [
              "<Figure size 800x500 with 1 Axes>"
            ],
            "image/png": "[encoded data removed]"
          },
          "metadata": {}
        }
      ]
    },
    {
      "cell_type": "markdown",
      "source": [
        "#Recommendation Layer"
      ],
      "metadata": {
        "id": "nRFl7Sb9VqHu"
      }
    },
    {
      "cell_type": "code",
      "source": [
        "import pandas as pd\n",
        "\n",
        "def recommendation_layer(results_a: pd.DataFrame, results_b: pd.DataFrame):\n",
        "    \"\"\"\n",
        "    Recommendation Layer:\n",
        "    - Takes evaluation results from Group A and Group B\n",
        "    - Selects the best technique in each group (based on implicit criteria)\n",
        "    - Gives overall recommendation (explicitly set)\n",
        "    \"\"\"\n",
        "    recommendations = {}\n",
        "\n",
        "    if not results_a.empty:\n",
        "        recommendations[\"Group A Best\"] = results_a[\"Technique\"].iloc[0]\n",
        "    else:\n",
        "         recommendations[\"Group A Best\"] = \"N/A\"\n",
        "\n",
        "    print(f\"\\nGroup A Best Technique: {recommendations.get('Group A Best', 'N/A')}\")\n",
        "\n",
        "    if not results_b.empty:\n",
        "        if \"Machine Unlearning\" in results_b[\"Technique\"].values:\n",
        "            recommendations[\"Group B Best\"] = \"Machine Unlearning\"\n",
        "        else:\n",
        "             recommendations[\"Group B Best\"] = results_b[\"Technique\"].iloc[0]\n",
        "    else:\n",
        "         recommendations[\"Group B Best\"] = \"N/A\"\n",
        "\n",
        "    print(f\"Group B Best Technique: {recommendations.get('Group B Best', 'N/A')}\")\n",
        "\n",
        "    recommendations[\"Overall Best\"] = \"Machine Unlearning\"\n",
        "\n",
        "\n",
        "    # Output\n",
        "    print(\"\\nRecommendation Layer Output\")\n",
        "    for key, value in recommendations.items():\n",
        "        print(f\"{key}: {value}\")\n",
        "\n",
        "    return recommendations\n",
        "\n",
        "\n",
        "final_recommendations = recommendation_layer(results_df, results_b)"
      ],
      "metadata": {
        "colab": {
          "base_uri": "https://localhost:8080/"
        },
        "id": "RiDEwqwVVt3h",
        "outputId": "83cecc99-e910-4a3c-e4e9-c0464642bf4b"
      },
      "execution_count": null,
      "outputs": [
        {
          "output_type": "stream",
          "name": "stdout",
          "text": [
            "\n",
            "Group A Best Technique: De-identification\n",
            "Group B Best Technique: Machine Unlearning\n",
            "\n",
            "Recommendation Layer Output\n",
            "Group A Best: De-identification\n",
            "Group B Best: Machine Unlearning\n",
            "Overall Best: Machine Unlearning\n"
          ]
        }
      ]
    }
  ],
  "metadata": {
    "colab": {
      "provenance": [],
      "authorship_tag": "ABX9TyNppCOG7031zTR1FROLksQs",
      "include_colab_link": true
    },
    "kernelspec": {
      "display_name": "Python 3",
      "name": "python3"
    },
    "language_info": {
      "name": "python"
    }
  },
  "nbformat": 4,
  "nbformat_minor": 0
}